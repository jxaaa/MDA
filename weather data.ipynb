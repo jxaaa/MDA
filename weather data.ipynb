{
 "cells": [
  {
   "cell_type": "code",
   "execution_count": 9,
   "metadata": {},
   "outputs": [],
   "source": [
    "\n",
    "# Import Meteostat library and dependencies\n",
    "from datetime import datetime\n",
    "import matplotlib.pyplot as plt\n",
    "from meteostat import Point, Daily ,Stations\n",
    "import pandas as pd"
   ]
  },
  {
   "cell_type": "code",
   "execution_count": 3,
   "metadata": {},
   "outputs": [],
   "source": [
    "# all of the country codes and responding names\n",
    "country=['AL','AR','AM','AW','AU','AT','AZ','BS','BH','BB','BY','BE','BM','BA','BR','VG','BN','BG','CV','CA','KY','CL','HK','MO','CK','CR','HR','CU','CY','CZ','DK','EG','SV','EE','FJ','FI','FR','GF','PF','GE','DE','GI','GR','GL','GP','GT','HU','IS','IR','IE','IL','IT','JP','KZ','KW','KG','LV','LB','LI','LU','MY','MV','MT','MQ','MU','YT','MX','MN','NL','NC','NZ','NO','PK','PA','PH','PL','PT','PR','QA','KR','RE','RO','RU','SH','LC','PM','WS','RS','SG','SK','SI','ES','LK','SR','SE','CH','SY','TJ','TH','TT','TR','TC','UA','AE','GB','US','VI','UY','UZ','VE']\n",
    "countryname=['Albania'\t,'Argentina'\t,'Armenia'\t,'Aruba'\t,'Australia'\t,'Austria'\t,'Azerbaijan'\t,'Bahamas'\t,'Bahrain'\t,'Barbados'\t,'Belarus'\t,'Belgium'\t,'Bermuda'\t,'Bosnia and Herzegovina'\t,'Brazil'\t,'British Virgin Islands'\t,'Brunei Darussalam'\t,'Bulgaria'\t,'Cabo Verde'\t,'Canada'\t,'Cayman Islands'\t,'Chile'\t,'China, Hong Kong SAR'\t,'China, Macao SAR'\t,'Cook Islands'\t,'Costa Rica'\t,'Croatia'\t,'Cuba'\t,'Cyprus'\t,'Czechia'\t,'Denmark'\t,'Egypt'\t,'El Salvador'\t,'Estonia'\t,'Fiji'\t,'Finland'\t,'France'\t,'French Guiana'\t,'French Polynesia'\t,'Georgia'\t,'Germany'\t,'Gibraltar'\t,'Greece'\t,'Greenland'\t,'Guadeloupe'\t,'Guatemala'\t,'Hungary'\t,'Iceland'\t,'Iran (Islamic Republic of)'\t,'Ireland'\t,'Israel'\t,'Italy'\t,'Japan'\t,'Kazakhstan'\t,'Kuwait'\t,'Kyrgyzstan'\t,'Latvia'\t,'Lebanon'\t,'Liechtenstein'\t,'Lithuania'\t,'Luxembourg'\t,'Malaysia'\t,'Maldives'\t,'Malta'\t,'Martinique'\t,'Mauritius'\t,'Mexico'\t,'Mongolia'\t\t,'Netherlands'\t,'New Caledonia'\t,'New Zealand'\t,'Norway'\t,'Pakistan'\t,'Panama'\t,'Philippines'\t,'Poland'\t,'Portugal'\t,'Puerto Rico'\t,'Qatar'\t,'Republic of Korea'\t,'Reunion'\t,'Romania'\t,'Russian Federation'\t,'Saint Helena ex. dep.'\t,'Saint Lucia'\t,'Saint Pierre and Miquelon'\t,'Samoa'\t,'Serbia'\t,'Singapore'\t,'Slovakia'\t,'Slovenia'\t,'Spain'\t,'Sri Lanka'\t,'Suriname'\t,'Sweden'\t,'Switzerland'\t,'Syrian Arab Republic'\t,'Tajikistan'\t,'Thailand'\t,'Trinidad and Tobago'\t,'Turkey'\t,'Turks and Caicos Islands'\t,'Ukraine'\t,'United Arab Emirates'\t,'United Kingdom of Great Britain and Northern Ireland'\t,'United States of America'\t,'United States Virgin Islands'\t,'Uruguay'\t,'Uzbekistan'\t,'Venezuela (Bolivarian Republic of)']\n"
   ]
  },
  {
   "cell_type": "code",
   "execution_count": 14,
   "metadata": {
    "scrolled": true
   },
   "outputs": [
    {
     "data": {
      "text/html": [
       "<div>\n",
       "<style scoped>\n",
       "    .dataframe tbody tr th:only-of-type {\n",
       "        vertical-align: middle;\n",
       "    }\n",
       "\n",
       "    .dataframe tbody tr th {\n",
       "        vertical-align: top;\n",
       "    }\n",
       "\n",
       "    .dataframe thead th {\n",
       "        text-align: right;\n",
       "    }\n",
       "</style>\n",
       "<table border=\"1\" class=\"dataframe\">\n",
       "  <thead>\n",
       "    <tr style=\"text-align: right;\">\n",
       "      <th></th>\n",
       "      <th>country</th>\n",
       "      <th>datetime</th>\n",
       "      <th>tavg</th>\n",
       "      <th>tmin</th>\n",
       "      <th>tmax</th>\n",
       "      <th>prcp</th>\n",
       "      <th>wspd</th>\n",
       "    </tr>\n",
       "  </thead>\n",
       "  <tbody>\n",
       "    <tr>\n",
       "      <th>0</th>\n",
       "      <td>Albania</td>\n",
       "      <td>2019-07-31</td>\n",
       "      <td>24.225000</td>\n",
       "      <td>13.0</td>\n",
       "      <td>36.2</td>\n",
       "      <td>363.0</td>\n",
       "      <td>7.000000</td>\n",
       "    </tr>\n",
       "    <tr>\n",
       "      <th>0</th>\n",
       "      <td>Argentina</td>\n",
       "      <td>2019-07-31</td>\n",
       "      <td>9.219403</td>\n",
       "      <td>-14.0</td>\n",
       "      <td>32.2</td>\n",
       "      <td>1862.0</td>\n",
       "      <td>11.354717</td>\n",
       "    </tr>\n",
       "  </tbody>\n",
       "</table>\n",
       "</div>"
      ],
      "text/plain": [
       "     country   datetime       tavg  tmin  tmax    prcp       wspd\n",
       "0    Albania 2019-07-31  24.225000  13.0  36.2   363.0   7.000000\n",
       "0  Argentina 2019-07-31   9.219403 -14.0  32.2  1862.0  11.354717"
      ]
     },
     "execution_count": 14,
     "metadata": {},
     "output_type": "execute_result"
    }
   ],
   "source": [
    "list=[]\n",
    "country=['AL','AR']\n",
    "countryname=['Albania'\t,'Argentina']\n",
    "for i,country in enumerate(country):\n",
    "    stations=Stations()\n",
    "    stations=stations.region(country)\n",
    "    station=stations.fetch()\n",
    "    start=datetime(2019,7,1)\n",
    "    end=datetime(2019,7,31)\n",
    "    data = Daily(station, start, end)\n",
    "    data = data.aggregate('M')\n",
    "    data=data.fetch()\n",
    "    data['datetime'] = data.index.get_level_values('time')\n",
    "    data=data.reset_index(drop=True,inplace=False)\n",
    "    a=data.groupby('datetime', as_index=False)['tavg'].mean()\n",
    "    b=data.groupby('datetime', as_index=False)['tmin'].min()\n",
    "    c=data.groupby('datetime', as_index=False)['tmax'].max()\n",
    "    d=data.groupby('datetime', as_index=False)['prcp'].sum()\n",
    "    e=data.groupby('datetime', as_index=False)['wspd'].mean()\n",
    "    final=pd.merge(a,b)\n",
    "    final=pd.merge(final,c)\n",
    "    final=pd.merge(final,d)\n",
    "    final=pd.merge(final,e)\n",
    "    final.insert(0,'country',countryname[i])\n",
    "    list.append(final)\n",
    "df = pd.concat(list)\n",
    "df"
   ]
  },
  {
   "cell_type": "code",
   "execution_count": null,
   "metadata": {},
   "outputs": [],
   "source": []
  },
  {
   "cell_type": "code",
   "execution_count": null,
   "metadata": {},
   "outputs": [],
   "source": []
  }
 ],
 "metadata": {
  "kernelspec": {
   "display_name": "Python 3",
   "language": "python",
   "name": "python3"
  },
  "language_info": {
   "codemirror_mode": {
    "name": "ipython",
    "version": 3
   },
   "file_extension": ".py",
   "mimetype": "text/x-python",
   "name": "python",
   "nbconvert_exporter": "python",
   "pygments_lexer": "ipython3",
   "version": "3.7.4"
  }
 },
 "nbformat": 4,
 "nbformat_minor": 2
}
