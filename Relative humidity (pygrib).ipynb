{
 "cells": [
  {
   "cell_type": "code",
   "execution_count": 5,
   "metadata": {},
   "outputs": [],
   "source": [
    "import pandas as pd\n",
    "import pygrib\n",
    "from datetime import datetime, timedelta\n",
    "\n",
    "fw1_name = 'RelativeHumidity.csv'\n",
    "fw2_name = 'latAndlon.csv'\n",
    "\n",
    "grbs = pygrib.open('/Users/zhuziyue/Desktop/1month_mean_Global_ea_r2_200001_v02.grib')"
   ]
  },
  {
   "cell_type": "code",
   "execution_count": 6,
   "metadata": {},
   "outputs": [
    {
     "data": {
      "text/plain": [
       "1"
      ]
     },
     "execution_count": 6,
     "metadata": {},
     "output_type": "execute_result"
    }
   ],
   "source": [
    "#有多少条数据\n",
    "grbs.messages"
   ]
  },
  {
   "cell_type": "code",
   "execution_count": 7,
   "metadata": {},
   "outputs": [
    {
     "name": "stdout",
     "output_type": "stream",
     "text": [
      "1:Relative humidity:% (instant):regular_ll:surface:level 0:fcst time 0 hrs:from 200001010000\n"
     ]
    }
   ],
   "source": [
    "#print inventory\n",
    "for grb in grbs:\n",
    "    print(grb)"
   ]
  },
  {
   "cell_type": "code",
   "execution_count": 8,
   "metadata": {},
   "outputs": [
    {
     "data": {
      "text/plain": [
       "1:Relative humidity:% (instant):regular_ll:surface:level 0:fcst time 0 hrs:from 200001010000"
      ]
     },
     "execution_count": 8,
     "metadata": {},
     "output_type": "execute_result"
    }
   ],
   "source": [
    "# 提取文件信息\n",
    "grbs.seek(0)\n",
    "grbs.tell()\n",
    "\n",
    "grb = grbs.read(1)[0] # read messages.\n",
    "grb "
   ]
  },
  {
   "cell_type": "code",
   "execution_count": 9,
   "metadata": {},
   "outputs": [
    {
     "name": "stdout",
     "output_type": "stream",
     "text": [
      "(721, 1440) 16.8126220703125 97.6141586303711\n"
     ]
    }
   ],
   "source": [
    "# 导出文件数据\n",
    "grb = grbs.select(name='Relative humidity')[0]\n",
    "value = grb.values\n",
    "print(value.shape, value.min(), value.max())"
   ]
  },
  {
   "cell_type": "code",
   "execution_count": 30,
   "metadata": {},
   "outputs": [
    {
     "ename": "SyntaxError",
     "evalue": "invalid syntax (<ipython-input-30-9907dc31f653>, line 4)",
     "output_type": "error",
     "traceback": [
      "\u001b[0;36m  File \u001b[0;32m\"<ipython-input-30-9907dc31f653>\"\u001b[0;36m, line \u001b[0;32m4\u001b[0m\n\u001b[0;31m    n = [0:1440]\u001b[0m\n\u001b[0m          ^\u001b[0m\n\u001b[0;31mSyntaxError\u001b[0m\u001b[0;31m:\u001b[0m invalid syntax\n"
     ]
    }
   ],
   "source": [
    "df = pd.DataFrame(value)\n",
    "df\n",
    "\n",
    "#df.to_csv(fw1_name, index=True, header=True)"
   ]
  },
  {
   "cell_type": "code",
   "execution_count": 23,
   "metadata": {},
   "outputs": [
    {
     "name": "stdout",
     "output_type": "stream",
     "text": [
      "[[ 90.    90.    90.   ...  90.    90.    90.  ]\n",
      " [ 89.75  89.75  89.75 ...  89.75  89.75  89.75]\n",
      " [ 89.5   89.5   89.5  ...  89.5   89.5   89.5 ]\n",
      " ...\n",
      " [-89.5  -89.5  -89.5  ... -89.5  -89.5  -89.5 ]\n",
      " [-89.75 -89.75 -89.75 ... -89.75 -89.75 -89.75]\n",
      " [-90.   -90.   -90.   ... -90.   -90.   -90.  ]] \n",
      " [[0.0000e+00 2.5000e-01 5.0000e-01 ... 3.5925e+02 3.5950e+02 3.5975e+02]\n",
      " [0.0000e+00 2.5000e-01 5.0000e-01 ... 3.5925e+02 3.5950e+02 3.5975e+02]\n",
      " [0.0000e+00 2.5000e-01 5.0000e-01 ... 3.5925e+02 3.5950e+02 3.5975e+02]\n",
      " ...\n",
      " [0.0000e+00 2.5000e-01 5.0000e-01 ... 3.5925e+02 3.5950e+02 3.5975e+02]\n",
      " [0.0000e+00 2.5000e-01 5.0000e-01 ... 3.5925e+02 3.5950e+02 3.5975e+02]\n",
      " [0.0000e+00 2.5000e-01 5.0000e-01 ... 3.5925e+02 3.5950e+02 3.5975e+02]]\n"
     ]
    }
   ],
   "source": [
    "# Cropping the pandas.DataFrame to a geospatial bounding box\n",
    "\n",
    "lat,lon=grb.latlons()\n",
    "print(lat,'\\n',lon)\n",
    "\n",
    "output_list = []\n",
    "\n",
    "for i in range(lat.shape[0]):\n",
    "    zip1 = zip(lat[i], lon[i])\n",
    "    output_list.append(list(zip1))\n",
    "    output = pd.DataFrame(output_list)\n",
    "\n",
    "#output.to_csv(fw2_name, index=True, header=True)"
   ]
  },
  {
   "cell_type": "code",
   "execution_count": 52,
   "metadata": {},
   "outputs": [],
   "source": [
    "def parse_datetime_from_filename(filename):\n",
    "    parts = filename.split(\"_\")\n",
    "    # Parse the forecast date from the filename\n",
    "    record_date = parts[5]\n",
    "    return str(record_date)"
   ]
  },
  {
   "cell_type": "code",
   "execution_count": 53,
   "metadata": {},
   "outputs": [],
   "source": [
    "timestamp = parse_datetime_from_filename(\"1month_mean_Global_ea_r2_200001_v02.grib\")"
   ]
  },
  {
   "cell_type": "code",
   "execution_count": 54,
   "metadata": {},
   "outputs": [
    {
     "name": "stdout",
     "output_type": "stream",
     "text": [
      "200001\n"
     ]
    }
   ],
   "source": [
    "print(timestamp)"
   ]
  },
  {
   "cell_type": "code",
   "execution_count": null,
   "metadata": {},
   "outputs": [],
   "source": [
    "df.to_csv(fw1_name+timestamp, index=True, header=True)\n",
    "output.to_csv(fw2_name+timestamp, index=True, header=True)"
   ]
  }
 ],
 "metadata": {
  "kernelspec": {
   "display_name": "Python 3",
   "language": "python",
   "name": "python3"
  },
  "language_info": {
   "codemirror_mode": {
    "name": "ipython",
    "version": 3
   },
   "file_extension": ".py",
   "mimetype": "text/x-python",
   "name": "python",
   "nbconvert_exporter": "python",
   "pygments_lexer": "ipython3",
   "version": "3.8.8"
  },
  "toc": {
   "base_numbering": 1,
   "nav_menu": {},
   "number_sections": true,
   "sideBar": true,
   "skip_h1_title": false,
   "title_cell": "Table of Contents",
   "title_sidebar": "Contents",
   "toc_cell": false,
   "toc_position": {},
   "toc_section_display": true,
   "toc_window_display": false
  }
 },
 "nbformat": 4,
 "nbformat_minor": 2
}
