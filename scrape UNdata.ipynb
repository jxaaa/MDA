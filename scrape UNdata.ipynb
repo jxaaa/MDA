{
 "cells": [
  {
   "cell_type": "code",
   "execution_count": 1,
   "metadata": {},
   "outputs": [],
   "source": [
    "#Load in some libraries to handle the web page requests and the web page parsing...\n",
    "import requests\n",
    "\n",
    "#You may need to install BeautifulSoup\n",
    "#!pip3 install beautifulsoup4\n",
    "from bs4 import BeautifulSoup\n",
    "\n",
    "#Note - I'm in Python3\n",
    "from urllib.parse import parse_qs\n",
    "\n",
    "#The scraper will be limited to just the first results page...\n",
    "def searchUNdata(q):\n",
    "    ''' Run a search on the UN data website and scrape the results '''\n",
    "    \n",
    "    params={'q':q}\n",
    "    url='http://data.un.org/Search.aspx'\n",
    "\n",
    "    response = requests.get(url,params=params)\n",
    "\n",
    "    soup=BeautifulSoup(response.content)\n",
    "\n",
    "    results={}\n",
    "\n",
    "    #Get the list of results\n",
    "    searchresults=soup.findAll('div',{'class':'Result'})\n",
    "    \n",
    "    #For each result, parse out the name of the dataset, the datamart ID and the data filter ID\n",
    "    for result in searchresults:\n",
    "        h2=result.find('h2')\n",
    "        #We can find everything we need in the <a> tag...\n",
    "        a=h2.find('a')\n",
    "        p=parse_qs(a.attrs['href'])\n",
    "        results[a.text]=(p['d'][0],p['f'][0])\n",
    "\n",
    "    return results"
   ]
  },
  {
   "cell_type": "code",
   "execution_count": 2,
   "metadata": {},
   "outputs": [
    {
     "name": "stdout",
     "output_type": "stream",
     "text": [
      "Infant mortality rate, for both sexes combined (infant deaths per 1,000 live births)\n",
      "Under-five mortality, for both sexes combined (deaths under age five per 1,000 live births)\n",
      "Malaria - number of reported deaths\n",
      "Number of infant deaths (thousands)\n",
      "Number of neonatal deaths (thousands)\n",
      "Crude death rate (per 1000 population)\n",
      "Number of under-five deaths (thousands)\n",
      "Deaths due to HIV/AIDS (per 100 000 population)\n",
      "Civil registration coverage of cause-of-death (%)\n",
      "Number of deaths due to tuberculosis, excluding HIV\n",
      "Ill-defined causes in cause-of-death registration (%)\n",
      "Deaths due to tuberculosis among HIV-negative people (per 100 000 population)\n",
      "AIDS-related deaths\n",
      "Crude death rate (CDR)\n",
      "Deaths by month of death\n",
      "Deaths averted due to ART\n",
      "Lifetime risk of maternal death\n",
      "Foetal deaths by gestational age\n",
      "Number of male deaths (thousands)\n",
      "Late foetal deaths by age of woman\n"
     ]
    }
   ],
   "source": [
    "#A couple of helper functions to let us display the results\n",
    "\n",
    "results=searchUNdata('death')\n",
    "\n",
    "def printResults(results):\n",
    "    ''' Nicely print the search results '''\n",
    "    \n",
    "    for result in results.keys():\n",
    "        print(result)\n",
    "\n",
    "\n",
    "def unDataSearch(q):\n",
    "    ''' Simple function to take a search phrase, run the search on the UN data site, and print and return the results. '''\n",
    "    \n",
    "    results=searchUNdata(q)\n",
    "    printResults(results)\n",
    "    return results\n",
    "\n",
    "printResults(results)\n",
    "\n",
    "#q='mortality'\n",
    "#unDataSearch(q)"
   ]
  },
  {
   "cell_type": "code",
   "execution_count": 3,
   "metadata": {},
   "outputs": [],
   "source": [
    "#Just in case - a helper routine for working with the search results data\n",
    "def search(d, substr):\n",
    "    ''' Partial string match search within dict key names '''\n",
    "    #via http://stackoverflow.com/a/10796050/454773\n",
    "    \n",
    "    result = []\n",
    "    for key in d:\n",
    "        if substr.lower() in key.lower():\n",
    "            result.append((key, d[key])) \n",
    "\n",
    "    return result"
   ]
  },
  {
   "cell_type": "code",
   "execution_count": 4,
   "metadata": {},
   "outputs": [
    {
     "data": {
      "text/plain": [
       "[('Deaths by month of death', ('POP', 'tableCode:65'))]"
      ]
     },
     "execution_count": 4,
     "metadata": {},
     "output_type": "execute_result"
    }
   ],
   "source": [
    "search(results, 'Deaths by month of death')"
   ]
  },
  {
   "cell_type": "code",
   "execution_count": 5,
   "metadata": {},
   "outputs": [],
   "source": [
    "#Note - I'm in Python3\n",
    "from io import BytesIO\n",
    "\n",
    "import zipfile\n",
    "import pandas as pd\n",
    "\n",
    "def getUNdata(undataSearchResults,dataset):\n",
    "    ''' Download a named dataset from the UN Data website and load it into a pandas dataframe '''\n",
    "\n",
    "    datamartID,seriesRowID=undataSearchResults[dataset]\n",
    "    \n",
    "    url='http://data.un.org/Handlers/DownloadHandler.ashx?DataFilter='+seriesRowID+'&DataMartId='+datamartID+'&Format=csv'\n",
    "\n",
    "    r = requests.get(url)\n",
    "    \n",
    "    \n",
    "    s=BytesIO(r.content)\n",
    "    z = zipfile.ZipFile(s)\n",
    "    \n",
    "    #Show the files in the zip file\n",
    "    #z.namelist()\n",
    "    \n",
    "    #Let's assume we just get one file per zip...\n",
    "    #Drop any all blank columns\n",
    "    df=pd.read_csv( BytesIO( z.read( z.namelist()[0] ) )).dropna(axis=1,how='all')\n",
    "    return df"
   ]
  },
  {
   "cell_type": "code",
   "execution_count": 6,
   "metadata": {},
   "outputs": [
    {
     "name": "stdout",
     "output_type": "stream",
     "text": [
      "Deaths by month of death\n"
     ]
    }
   ],
   "source": [
    "results=unDataSearch('Deaths by month of death')"
   ]
  },
  {
   "cell_type": "code",
   "execution_count": 7,
   "metadata": {},
   "outputs": [
    {
     "data": {
      "text/html": [
       "<div>\n",
       "<style scoped>\n",
       "    .dataframe tbody tr th:only-of-type {\n",
       "        vertical-align: middle;\n",
       "    }\n",
       "\n",
       "    .dataframe tbody tr th {\n",
       "        vertical-align: top;\n",
       "    }\n",
       "\n",
       "    .dataframe thead th {\n",
       "        text-align: right;\n",
       "    }\n",
       "</style>\n",
       "<table border=\"1\" class=\"dataframe\">\n",
       "  <thead>\n",
       "    <tr style=\"text-align: right;\">\n",
       "      <th></th>\n",
       "      <th>Country or Area</th>\n",
       "      <th>Year</th>\n",
       "      <th>Area</th>\n",
       "      <th>Month</th>\n",
       "      <th>Record Type</th>\n",
       "      <th>Reliability</th>\n",
       "      <th>Source Year</th>\n",
       "      <th>Value</th>\n",
       "      <th>Value Footnotes</th>\n",
       "      <th>Value Footnotes.1</th>\n",
       "    </tr>\n",
       "  </thead>\n",
       "  <tbody>\n",
       "    <tr>\n",
       "      <td>0</td>\n",
       "      <td>Åland Islands</td>\n",
       "      <td>2018</td>\n",
       "      <td>Total</td>\n",
       "      <td>Total</td>\n",
       "      <td>Data tabulated by year of occurrence</td>\n",
       "      <td>Final figure, complete</td>\n",
       "      <td>2020.0</td>\n",
       "      <td>272.0</td>\n",
       "      <td>NaN</td>\n",
       "      <td>NaN</td>\n",
       "    </tr>\n",
       "    <tr>\n",
       "      <td>1</td>\n",
       "      <td>Åland Islands</td>\n",
       "      <td>2018</td>\n",
       "      <td>Total</td>\n",
       "      <td>January</td>\n",
       "      <td>Data tabulated by year of occurrence</td>\n",
       "      <td>Final figure, complete</td>\n",
       "      <td>2020.0</td>\n",
       "      <td>23.0</td>\n",
       "      <td>NaN</td>\n",
       "      <td>NaN</td>\n",
       "    </tr>\n",
       "    <tr>\n",
       "      <td>2</td>\n",
       "      <td>Åland Islands</td>\n",
       "      <td>2018</td>\n",
       "      <td>Total</td>\n",
       "      <td>February</td>\n",
       "      <td>Data tabulated by year of occurrence</td>\n",
       "      <td>Final figure, complete</td>\n",
       "      <td>2020.0</td>\n",
       "      <td>29.0</td>\n",
       "      <td>NaN</td>\n",
       "      <td>NaN</td>\n",
       "    </tr>\n",
       "    <tr>\n",
       "      <td>3</td>\n",
       "      <td>Åland Islands</td>\n",
       "      <td>2018</td>\n",
       "      <td>Total</td>\n",
       "      <td>March</td>\n",
       "      <td>Data tabulated by year of occurrence</td>\n",
       "      <td>Final figure, complete</td>\n",
       "      <td>2020.0</td>\n",
       "      <td>29.0</td>\n",
       "      <td>NaN</td>\n",
       "      <td>NaN</td>\n",
       "    </tr>\n",
       "    <tr>\n",
       "      <td>4</td>\n",
       "      <td>Åland Islands</td>\n",
       "      <td>2018</td>\n",
       "      <td>Total</td>\n",
       "      <td>April</td>\n",
       "      <td>Data tabulated by year of occurrence</td>\n",
       "      <td>Final figure, complete</td>\n",
       "      <td>2020.0</td>\n",
       "      <td>19.0</td>\n",
       "      <td>NaN</td>\n",
       "      <td>NaN</td>\n",
       "    </tr>\n",
       "  </tbody>\n",
       "</table>\n",
       "</div>"
      ],
      "text/plain": [
       "  Country or Area  Year   Area     Month  \\\n",
       "0   Åland Islands  2018  Total     Total   \n",
       "1   Åland Islands  2018  Total   January   \n",
       "2   Åland Islands  2018  Total  February   \n",
       "3   Åland Islands  2018  Total     March   \n",
       "4   Åland Islands  2018  Total     April   \n",
       "\n",
       "                            Record Type             Reliability  Source Year  \\\n",
       "0  Data tabulated by year of occurrence  Final figure, complete       2020.0   \n",
       "1  Data tabulated by year of occurrence  Final figure, complete       2020.0   \n",
       "2  Data tabulated by year of occurrence  Final figure, complete       2020.0   \n",
       "3  Data tabulated by year of occurrence  Final figure, complete       2020.0   \n",
       "4  Data tabulated by year of occurrence  Final figure, complete       2020.0   \n",
       "\n",
       "   Value Value Footnotes Value Footnotes.1  \n",
       "0  272.0             NaN               NaN  \n",
       "1   23.0             NaN               NaN  \n",
       "2   29.0             NaN               NaN  \n",
       "3   29.0             NaN               NaN  \n",
       "4   19.0             NaN               NaN  "
      ]
     },
     "execution_count": 7,
     "metadata": {},
     "output_type": "execute_result"
    }
   ],
   "source": [
    "dd=getUNdata(results,'Deaths by month of death')\n",
    "\n",
    "#Preview the last few rows\n",
    "dd[:5]"
   ]
  },
  {
   "cell_type": "code",
   "execution_count": 8,
   "metadata": {
    "code_folding": []
   },
   "outputs": [
    {
     "name": "stderr",
     "output_type": "stream",
     "text": [
      "/opt/anaconda3/lib/python3.7/site-packages/ipykernel_launcher.py:5: FutureWarning: Series.nonzero() is deprecated and will be removed in a future version.Use Series.to_numpy().nonzero() instead\n",
      "  \"\"\"\n"
     ]
    },
    {
     "ename": "IndexError",
     "evalue": "index 0 is out of bounds for axis 0 with size 0",
     "output_type": "error",
     "traceback": [
      "\u001b[0;31m---------------------------------------------------------------------------\u001b[0m",
      "\u001b[0;31mIndexError\u001b[0m                                Traceback (most recent call last)",
      "\u001b[0;32m<ipython-input-8-89393fe2b6d6>\u001b[0m in \u001b[0;36m<module>\u001b[0;34m\u001b[0m\n\u001b[1;32m      5\u001b[0m     \u001b[0;32mreturn\u001b[0m \u001b[0mdf\u001b[0m\u001b[0;34m[\u001b[0m\u001b[0;34m:\u001b[0m\u001b[0mpd\u001b[0m\u001b[0;34m.\u001b[0m\u001b[0misnull\u001b[0m\u001b[0;34m(\u001b[0m\u001b[0mdd\u001b[0m\u001b[0;34m)\u001b[0m\u001b[0;34m.\u001b[0m\u001b[0mall\u001b[0m\u001b[0;34m(\u001b[0m\u001b[0;36m1\u001b[0m\u001b[0;34m)\u001b[0m\u001b[0;34m.\u001b[0m\u001b[0mnonzero\u001b[0m\u001b[0;34m(\u001b[0m\u001b[0;34m)\u001b[0m\u001b[0;34m[\u001b[0m\u001b[0;36m0\u001b[0m\u001b[0;34m]\u001b[0m\u001b[0;34m[\u001b[0m\u001b[0;36m0\u001b[0m\u001b[0;34m]\u001b[0m\u001b[0;34m]\u001b[0m\u001b[0;34m.\u001b[0m\u001b[0mdrop\u001b[0m\u001b[0;34m(\u001b[0m\u001b[0;34m[\u001b[0m\u001b[0;34m'Value Footnotes'\u001b[0m\u001b[0;34m,\u001b[0m\u001b[0;34m'Value Footnotes.1'\u001b[0m\u001b[0;34m]\u001b[0m\u001b[0;34m,\u001b[0m \u001b[0;36m1\u001b[0m\u001b[0;34m)\u001b[0m\u001b[0;34m\u001b[0m\u001b[0;34m\u001b[0m\u001b[0m\n\u001b[1;32m      6\u001b[0m \u001b[0;34m\u001b[0m\u001b[0m\n\u001b[0;32m----> 7\u001b[0;31m \u001b[0mdropFootnotes\u001b[0m\u001b[0;34m(\u001b[0m\u001b[0mdd\u001b[0m\u001b[0;34m)\u001b[0m\u001b[0;34m[\u001b[0m\u001b[0;34m-\u001b[0m\u001b[0;36m5\u001b[0m\u001b[0;34m:\u001b[0m\u001b[0;34m]\u001b[0m\u001b[0;34m\u001b[0m\u001b[0;34m\u001b[0m\u001b[0m\n\u001b[0m",
      "\u001b[0;32m<ipython-input-8-89393fe2b6d6>\u001b[0m in \u001b[0;36mdropFootnotes\u001b[0;34m(df)\u001b[0m\n\u001b[1;32m      3\u001b[0m \u001b[0;31m#We can also drop the footnote related columns\u001b[0m\u001b[0;34m\u001b[0m\u001b[0;34m\u001b[0m\u001b[0;34m\u001b[0m\u001b[0m\n\u001b[1;32m      4\u001b[0m \u001b[0;32mdef\u001b[0m \u001b[0mdropFootnotes\u001b[0m\u001b[0;34m(\u001b[0m\u001b[0mdf\u001b[0m\u001b[0;34m)\u001b[0m\u001b[0;34m:\u001b[0m\u001b[0;34m\u001b[0m\u001b[0;34m\u001b[0m\u001b[0m\n\u001b[0;32m----> 5\u001b[0;31m     \u001b[0;32mreturn\u001b[0m \u001b[0mdf\u001b[0m\u001b[0;34m[\u001b[0m\u001b[0;34m:\u001b[0m\u001b[0mpd\u001b[0m\u001b[0;34m.\u001b[0m\u001b[0misnull\u001b[0m\u001b[0;34m(\u001b[0m\u001b[0mdd\u001b[0m\u001b[0;34m)\u001b[0m\u001b[0;34m.\u001b[0m\u001b[0mall\u001b[0m\u001b[0;34m(\u001b[0m\u001b[0;36m1\u001b[0m\u001b[0;34m)\u001b[0m\u001b[0;34m.\u001b[0m\u001b[0mnonzero\u001b[0m\u001b[0;34m(\u001b[0m\u001b[0;34m)\u001b[0m\u001b[0;34m[\u001b[0m\u001b[0;36m0\u001b[0m\u001b[0;34m]\u001b[0m\u001b[0;34m[\u001b[0m\u001b[0;36m0\u001b[0m\u001b[0;34m]\u001b[0m\u001b[0;34m]\u001b[0m\u001b[0;34m.\u001b[0m\u001b[0mdrop\u001b[0m\u001b[0;34m(\u001b[0m\u001b[0;34m[\u001b[0m\u001b[0;34m'Value Footnotes'\u001b[0m\u001b[0;34m,\u001b[0m\u001b[0;34m'Value Footnotes.1'\u001b[0m\u001b[0;34m]\u001b[0m\u001b[0;34m,\u001b[0m \u001b[0;36m1\u001b[0m\u001b[0;34m)\u001b[0m\u001b[0;34m\u001b[0m\u001b[0;34m\u001b[0m\u001b[0m\n\u001b[0m\u001b[1;32m      6\u001b[0m \u001b[0;34m\u001b[0m\u001b[0m\n\u001b[1;32m      7\u001b[0m \u001b[0mdropFootnotes\u001b[0m\u001b[0;34m(\u001b[0m\u001b[0mdd\u001b[0m\u001b[0;34m)\u001b[0m\u001b[0;34m[\u001b[0m\u001b[0;34m-\u001b[0m\u001b[0;36m5\u001b[0m\u001b[0;34m:\u001b[0m\u001b[0;34m]\u001b[0m\u001b[0;34m\u001b[0m\u001b[0;34m\u001b[0m\u001b[0m\n",
      "\u001b[0;31mIndexError\u001b[0m: index 0 is out of bounds for axis 0 with size 0"
     ]
    }
   ],
   "source": [
    "#One thing to note is that footnotes may appear at the bottom of a dataframe\n",
    "#We can spot the all empty row and drop rows from that\n",
    "#We can also drop the footnote related columns\n",
    "def dropFootnotes(df):\n",
    "    return df[:pd.isnull(dd).all(1).nonzero()[0][0]].drop(['Value Footnotes','Value Footnotes.1'], 1)\n",
    "\n",
    "dropFootnotes(dd)[-5:]"
   ]
  },
  {
   "cell_type": "code",
   "execution_count": null,
   "metadata": {},
   "outputs": [],
   "source": [
    "#Create a function that automatically drops the footnotes and any empty rows\n",
    "def getUNdata2(undataSearchResults, dataset, footnotes=False):\n",
    "    df=getUNdata(undataSearchResults, dataset)\n",
    "    if footnotes:\n",
    "        return df\n",
    "    return dropFootnotes(df)\n"
   ]
  },
  {
   "cell_type": "code",
   "execution_count": null,
   "metadata": {},
   "outputs": [],
   "source": [
    "getUNdata2(results,'Deaths by month of death')[5:5]"
   ]
  },
  {
   "cell_type": "code",
   "execution_count": null,
   "metadata": {},
   "outputs": [],
   "source": [
    "getUNdata2(results,'Deaths by month of death',footnotes=True)[-5:]"
   ]
  },
  {
   "cell_type": "code",
   "execution_count": null,
   "metadata": {},
   "outputs": [],
   "source": []
  }
 ],
 "metadata": {
  "kernelspec": {
   "display_name": "Python 3",
   "language": "python",
   "name": "python3"
  },
  "language_info": {
   "codemirror_mode": {
    "name": "ipython",
    "version": 3
   },
   "file_extension": ".py",
   "mimetype": "text/x-python",
   "name": "python",
   "nbconvert_exporter": "python",
   "pygments_lexer": "ipython3",
   "version": "3.7.4"
  },
  "toc": {
   "base_numbering": 1,
   "nav_menu": {},
   "number_sections": true,
   "sideBar": true,
   "skip_h1_title": false,
   "title_cell": "Table of Contents",
   "title_sidebar": "Contents",
   "toc_cell": false,
   "toc_position": {},
   "toc_section_display": true,
   "toc_window_display": false
  }
 },
 "nbformat": 4,
 "nbformat_minor": 2
}
